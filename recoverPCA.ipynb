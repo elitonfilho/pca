{
 "cells": [
  {
   "cell_type": "code",
   "execution_count": 2,
   "metadata": {},
   "outputs": [
    {
     "data": {
      "text/plain": [
       "(2500, 10, 256, 256)"
      ]
     },
     "execution_count": 2,
     "metadata": {},
     "output_type": "execute_result"
    }
   ],
   "source": [
    "import numpy as np\n",
    "f = np.load('dataSourcev2/original.npy')\n",
    "f.shape"
   ]
  },
  {
   "cell_type": "code",
   "execution_count": 3,
   "metadata": {},
   "outputs": [
    {
     "name": "stdout",
     "output_type": "stream",
     "text": [
      "(9, 163840000) (1, 163840000)\n"
     ]
    }
   ],
   "source": [
    "X = f[:,0:-1,...]\n",
    "Y = f[:,-1,...]\n",
    "X = X.reshape(X.shape[1], -1)\n",
    "Y = Y.reshape(1, -1)\n",
    "print(X.shape, Y.shape)"
   ]
  },
  {
   "cell_type": "code",
   "execution_count": null,
   "metadata": {},
   "outputs": [],
   "source": [
    "from sklearn.preprocessing import MinMaxScaler\n",
    "scaler = MinMaxScaler()\n",
    "scaled = scaler.fit_transform(X,Y)"
   ]
  },
  {
   "cell_type": "code",
   "execution_count": 4,
   "metadata": {},
   "outputs": [
    {
     "data": {
      "image/png": "[encoded data removed]",
      "text/plain": [
       "<Figure size 432x288 with 1 Axes>"
      ]
     },
     "metadata": {
      "needs_background": "light"
     },
     "output_type": "display_data"
    }
   ],
   "source": [
    "from sklearn.decomposition import PCA\n",
    "import matplotlib.pyplot as plt\n",
    "nband = 8\n",
    "pca = PCA(n_components=nband)\n",
    "pca_reduced = pca.fit_transform(scaled)\n",
    "\n",
    "plt.grid()\n",
    "plt.plot(np.cumsum(pca.explained_variance_ratio_*100))\n",
    "plt.show()"
   ]
  },
  {
   "cell_type": "code",
   "execution_count": 5,
   "metadata": {},
   "outputs": [
    {
     "name": "stdout",
     "output_type": "stream",
     "text": [
      "(9, 8) (2500, 10, 256, 256)\n"
     ]
    }
   ],
   "source": [
    "# pca_recovered = pca.inverse_transform(pca_reduced[:-(9-nband)])\n",
    "pca_recovered = pca.inverse_transform(pca_reduced)\n",
    "pca_recovered = pca_recovered.reshape(2500, -1, 256, 256)\n",
    "Y = Y.reshape(2500, -1, 256, 256)\n",
    "pca_recovered = np.concatenate((pca_recovered, Y), axis=1)\n",
    "print(pca_reduced.shape, pca_recovered.shape)"
   ]
  },
  {
   "cell_type": "code",
   "execution_count": 6,
   "metadata": {},
   "outputs": [],
   "source": [
    "np.save(f'dataSource/pca-recovered/8.npy', pca_recovered)"
   ]
  }
 ],
 "metadata": {
  "kernelspec": {
   "display_name": "Python 3.10.5 ('venv')",
   "language": "python",
   "name": "python3"
  },
  "language_info": {
   "codemirror_mode": {
    "name": "ipython",
    "version": 3
   },
   "file_extension": ".py",
   "mimetype": "text/x-python",
   "name": "python",
   "nbconvert_exporter": "python",
   "pygments_lexer": "ipython3",
   "version": "3.10.5"
  },
  "orig_nbformat": 4,
  "vscode": {
   "interpreter": {
    "hash": "aba7c633e1ec2ac30a4c75a4b9556b5b641815947481fc76eabe4a3c477bf2cd"
   }
  }
 },
 "nbformat": 4,
 "nbformat_minor": 2
}
