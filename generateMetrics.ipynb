{
 "cells": [
  {
   "cell_type": "code",
   "execution_count": null,
   "metadata": {},
   "outputs": [],
   "source": [
    "from metrics import Metrics\n",
    "import numpy as np\n",
    "from pathlib import Path\n",
    "from PIL import Image\n",
    "import matplotlib.pyplot as plt"
   ]
  },
  {
   "cell_type": "code",
   "execution_count": null,
   "metadata": {},
   "outputs": [],
   "source": [
    "n = 1\n",
    "pathPCA = Path(f'D:\\\\pca\\\\8-pca')\n",
    "pathAutoencoder = Path(f'D:\\\\pca\\\\new-ae\\\\1')\n",
    "pathOriginal = Path(f'D:\\\\pca\\\\original')\n",
    "pathMasks = Path(f'D:\\\\pca\\\\mask')\n",
    "np.random.seed(2)\n",
    "\n",
    "metricAE = Metrics()\n",
    "metricPCA = Metrics()\n",
    "\n",
    "fig, ax = plt.subplots(1,4)\n",
    "\n",
    "for i, p in enumerate(pathMasks.iterdir()):\n",
    "    mask = np.array(Image.open(p))\n",
    "    maskae = np.array(Image.open(pathAutoencoder / p.name))\n",
    "    maskpca = np.array(Image.open(pathPCA / p.name))\n",
    "    maskOriginal = np.array(Image.open(pathOriginal / p.name))\n",
    "\n",
    "    metricAE.update(maskae, mask)\n",
    "    metricPCA.update(maskpca, mask)\n"
   ]
  },
  {
   "cell_type": "code",
   "execution_count": null,
   "metadata": {},
   "outputs": [],
   "source": [
    "metricAE.metrics()"
   ]
  },
  {
   "cell_type": "code",
   "execution_count": null,
   "metadata": {},
   "outputs": [],
   "source": [
    "metricPCA.metrics()"
   ]
  },
  {
   "cell_type": "code",
   "execution_count": null,
   "metadata": {},
   "outputs": [],
   "source": [
    "import csv\n",
    "with open('csv.csv', 'a') as fp:\n",
    "    data1 = metricPCA.metrics()\n",
    "    data2 = metricAE.metrics()\n",
    "    data1.pop('FreqW Acc:')\n",
    "    data2.pop('FreqW Acc:')\n",
    "    data1['Classes'] = {x:round(y,3) for x,y in data1['Classes'].items() if x!=0}\n",
    "    data2['Classes'] = {x:round(y,3) for x,y in data2['Classes'].items() if x!=0}\n",
    "    file = csv.DictWriter(fp, data1.keys())\n",
    "    file.writerows([data1,data2])\n"
   ]
  }
 ],
 "metadata": {
  "interpreter": {
   "hash": "a83cd55f7d42146a270122768dd5483b325a6c1679b2810a76cfea13b48ad59f"
  },
  "kernelspec": {
   "display_name": "Python 3.8.6 ('venv')",
   "language": "python",
   "name": "python3"
  },
  "language_info": {
   "codemirror_mode": {
    "name": "ipython",
    "version": 3
   },
   "file_extension": ".py",
   "mimetype": "text/x-python",
   "name": "python",
   "nbconvert_exporter": "python",
   "pygments_lexer": "ipython3",
   "version": "3.8.6"
  },
  "orig_nbformat": 4
 },
 "nbformat": 4,
 "nbformat_minor": 2
}
