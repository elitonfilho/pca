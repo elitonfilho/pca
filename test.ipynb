{
 "cells": [
  {
   "cell_type": "code",
   "execution_count": null,
   "metadata": {},
   "outputs": [],
   "source": [
    "from pathlib import Path\n",
    "import torch\n",
    "import numpy as np\n",
    "from PIL import Image\n",
    "from landcoverDataset import LandCoverDataset\n",
    "import matplotlib.pyplot as plt"
   ]
  },
  {
   "cell_type": "code",
   "execution_count": null,
   "metadata": {},
   "outputs": [],
   "source": [
    "# Define dataloader and other config\n",
    "dataset = LandCoverDataset(r'dataSourcev2/pca-8.npy')\n",
    "loader = torch.utils.data.DataLoader(dataset, num_workers=0, batch_size=1, shuffle=False)\n",
    "n_class=7\n",
    "n_ch=9"
   ]
  },
  {
   "cell_type": "markdown",
   "metadata": {},
   "source": [
    "------- FOR SEGMENTATION ---------"
   ]
  },
  {
   "cell_type": "code",
   "execution_count": null,
   "metadata": {},
   "outputs": [],
   "source": [
    "# Define model - segmentation\n",
    "from model_seg import UNetResNet\n",
    "moduleSeg = UNetResNet(num_classes=n_class, in_channels=n_ch)\n",
    "moduleSeg.load_state_dict(torch.load('trained/seg-resnet.pth'))\n",
    "moduleSeg = moduleSeg.cuda().eval()\n",
    "softmax = torch.nn.Softmax2d()\n",
    "savePath = Path(r'D:\\pca\\8-pca')"
   ]
  },
  {
   "cell_type": "code",
   "execution_count": null,
   "metadata": {},
   "outputs": [],
   "source": [
    "# Run inference\n",
    "with torch.no_grad():\n",
    "    for i, (img, mask) in enumerate(loader):\n",
    "        pred = moduleSeg(img.float().cuda())\n",
    "        pred = softmax(pred)\n",
    "        pred = pred.argmax(1).data.cpu().numpy().squeeze().astype(np.uint8)\n",
    "        img = Image.fromarray(pred)\n",
    "        img.save(savePath / f'{i}.png')"
   ]
  },
  {
   "cell_type": "markdown",
   "metadata": {},
   "source": [
    "------- FOR RECONSTRUCTION ---------"
   ]
  },
  {
   "cell_type": "code",
   "execution_count": null,
   "metadata": {},
   "outputs": [],
   "source": [
    "# Define model - AE\n",
    "from model_basic_resnet import VanillaVAE\n",
    "module =  VanillaVAE(9,[64,32,16,8])\n",
    "module.load_state_dict(torch.load('trained/ae-seg/8.pth'))\n",
    "module = module.cuda().eval()\n",
    "savePath = Path(r'D:\\pca\\reconstructed\\ae-seg-8')"
   ]
  },
  {
   "cell_type": "code",
   "execution_count": null,
   "metadata": {},
   "outputs": [],
   "source": [
    "# Run inference and save\n",
    "with torch.no_grad():\n",
    "    for i, (img, mask) in enumerate(loader):\n",
    "        pred = module(img.float().cuda())\n",
    "        pred = softmax(moduleSeg(pred)).argmax(1)\n",
    "        pred = pred.data.cpu().numpy().squeeze().astype(np.uint8)\n",
    "        img = Image.fromarray(pred)\n",
    "        img.save(savePath / f'{i}.png')"
   ]
  },
  {
   "cell_type": "code",
   "execution_count": null,
   "metadata": {},
   "outputs": [],
   "source": [
    "# Reconstruction\n",
    "imgs = []\n",
    "with torch.no_grad():\n",
    "    for i , (img, mask) in enumerate(loader):\n",
    "            pred = module(img.float().cuda())\n",
    "            pred = np.concatenate((pred.data.cpu().numpy().squeeze(),mask), axis=0)\n",
    "            imgs.append(pred)\n",
    "    imgs = np.stack(imgs)\n",
    "    np.save(savePath / '8.npy', imgs)"
   ]
  }
 ],
 "metadata": {
  "interpreter": {
   "hash": "a83cd55f7d42146a270122768dd5483b325a6c1679b2810a76cfea13b48ad59f"
  },
  "kernelspec": {
   "display_name": "Python 3.8.6 ('venv')",
   "language": "python",
   "name": "python3"
  },
  "language_info": {
   "codemirror_mode": {
    "name": "ipython",
    "version": 3
   },
   "file_extension": ".py",
   "mimetype": "text/x-python",
   "name": "python",
   "nbconvert_exporter": "python",
   "pygments_lexer": "ipython3",
   "version": "3.8.6"
  },
  "orig_nbformat": 4
 },
 "nbformat": 4,
 "nbformat_minor": 2
}
