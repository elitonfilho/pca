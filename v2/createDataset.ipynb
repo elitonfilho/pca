{
 "cells": [
  {
   "cell_type": "code",
   "execution_count": 2,
   "metadata": {},
   "outputs": [],
   "source": [
    "import torch, torchvision, pathlib\n",
    "import numpy as np\n",
    "import pyvips\n",
    "from PIL import Image\n",
    "from sklearn.preprocessing import MinMaxScaler, MaxAbsScaler\n",
    "from sklearn.decomposition import PCA"
   ]
  },
  {
   "cell_type": "code",
   "execution_count": 3,
   "metadata": {},
   "outputs": [],
   "source": [
    "# Using de_1m_2013_extended-debuffered as reference\n",
    "cvprDataPath = pathlib.Path('/home/users/jeafilho/dataset/cvpr_chesapeake_landcover/')\n",
    "trainImgPaths = (cvprDataPath / 'de_1m_2013_extended-debuffered-train_tiles').glob('*leaf-on.tif')\n",
    "valImgPaths = (cvprDataPath / 'de_1m_2013_extended-debuffered-val_tiles').glob('*leaf-on.tif')\n",
    "testImgPaths = (cvprDataPath / 'de_1m_2013_extended-debuffered-test_tiles').glob('*leaf-on.tif')"
   ]
  },
  {
   "cell_type": "code",
   "execution_count": 4,
   "metadata": {},
   "outputs": [],
   "source": [
    "# Creating train data\n",
    "imgs = []\n",
    "masks = []\n",
    "stop = False\n",
    "for path in trainImgPaths:\n",
    "    img = pyvips.Image.new_from_file(str(path))\n",
    "    imgs.append(img.numpy())\n",
    "    mask = pyvips.Image.new_from_file(str(path).removesuffix('landsat-leaf-on.tif') + 'lc.tif')\n",
    "    masks.append(mask.numpy())\n",
    "    if stop: break\n",
    "    stop = True\n"
   ]
  },
  {
   "cell_type": "code",
   "execution_count": 24,
   "metadata": {},
   "outputs": [],
   "source": [
    "# 1 Scaler per band, since the range of every band is different\n",
    "scalers = []\n",
    "nBands = imgs[0].shape[2]\n",
    "nBands = 2\n",
    "for i in range(nBands):\n",
    "    dummyArray = np.array([[]])\n",
    "    for img in imgs:\n",
    "        dummyArray = np.concatenate([dummyArray, img[..., i].reshape(-1,1)], axis=None)\n",
    "    scalers.append(MinMaxScaler().fit(dummyArray.reshape(-1,1)))\n",
    "#     print(np.concatenate(imgs, axis=2).shape)\n",
    "    # scalers.append(MinMaxScaler().fit(np.concatenate(imgs, axis=2)[i::nBands].reshape((-1,1))))"
   ]
  },
  {
   "cell_type": "code",
   "execution_count": 26,
   "metadata": {},
   "outputs": [
    {
     "data": {
      "text/plain": [
       "array([3604.])"
      ]
     },
     "execution_count": 26,
     "metadata": {},
     "output_type": "execute_result"
    }
   ],
   "source": [
    "scalers[1].data_max_"
   ]
  },
  {
   "cell_type": "code",
   "execution_count": 30,
   "metadata": {},
   "outputs": [],
   "source": [
    "for i in range(nBands):\n",
    "    for img in imgs:\n",
    "        shp = img.shape\n",
    "        np.vectorize(scalers[i].transform(img[:,:,i].reshape(-1,1)))"
   ]
  },
  {
   "cell_type": "code",
   "execution_count": 84,
   "metadata": {},
   "outputs": [],
   "source": [
    "for i in range(img.shape[2]):\n",
    "    scaler = MinMaxScaler()\n",
    "    img[:,:,i] = scaler.fit_transform(np.squeeze(img[:,:,i]))\n"
   ]
  },
  {
   "cell_type": "code",
   "execution_count": 85,
   "metadata": {},
   "outputs": [
    {
     "data": {
      "text/plain": [
       "(432, 256, 256, 10)"
      ]
     },
     "execution_count": 85,
     "metadata": {},
     "output_type": "execute_result"
    }
   ],
   "source": [
    "xlen = 256\n",
    "ylen = 256\n",
    "dest = []\n",
    "img = img.astype(np.float32)\n",
    "mask = mask.astype(np.float32)\n",
    "for i in range(img.shape[0]//xlen):\n",
    "    for j in range(img.shape[1]//ylen):\n",
    "        _a = np.concatenate([img[xlen*i:xlen*(i+1),ylen*j:ylen*(j+1)],np.expand_dims(mask[xlen*i:xlen*(i+1),ylen*j:ylen*(j+1)], 2)],2)\n",
    "        dest.append(_a)\n",
    "final = np.stack(dest)\n",
    "final.shape"
   ]
  },
  {
   "cell_type": "code",
   "execution_count": 86,
   "metadata": {},
   "outputs": [],
   "source": [
    "np.save('/home/users/jeafilho/dataset/original5', final)"
   ]
  }
 ],
 "metadata": {
  "kernelspec": {
   "display_name": "Python 3.10.4 ('venv')",
   "language": "python",
   "name": "python3"
  },
  "language_info": {
   "codemirror_mode": {
    "name": "ipython",
    "version": 3
   },
   "file_extension": ".py",
   "mimetype": "text/x-python",
   "name": "python",
   "nbconvert_exporter": "python",
   "pygments_lexer": "ipython3",
   "version": "3.10.6"
  },
  "orig_nbformat": 4,
  "vscode": {
   "interpreter": {
    "hash": "aba7c633e1ec2ac30a4c75a4b9556b5b641815947481fc76eabe4a3c477bf2cd"
   }
  }
 },
 "nbformat": 4,
 "nbformat_minor": 2
}
