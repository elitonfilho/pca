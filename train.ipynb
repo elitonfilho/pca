{
 "cells": [
  {
   "cell_type": "code",
   "execution_count": null,
   "metadata": {},
   "outputs": [],
   "source": [
    "import torch\n",
    "import numpy as np\n",
    "from landcoverDataset import LandCoverDataset"
   ]
  },
  {
   "cell_type": "code",
   "execution_count": null,
   "metadata": {},
   "outputs": [],
   "source": [
    "# Define dataloader and other config\n",
    "dataset = LandCoverDataset(r'dataSourcev2/original.npy')\n",
    "loader = torch.utils.data.DataLoader(dataset, num_workers=4, batch_size=4, shuffle=False)\n",
    "n_class=7\n",
    "n_ch=9"
   ]
  },
  {
   "cell_type": "markdown",
   "metadata": {},
   "source": [
    "------ TRAIN AUTOENCODER --------"
   ]
  },
  {
   "cell_type": "code",
   "execution_count": null,
   "metadata": {},
   "outputs": [],
   "source": [
    "from model_basic_resnet import VanillaVAE\n",
    "model = VanillaVAE(9, [8,4,2,1]).cuda().train()\n",
    "loss_function = torch.nn.MSELoss()\n",
    "optimizer = torch.optim.Adam(model.parameters(), lr=0.001)\n",
    "for epoch_idx in range(50):\n",
    "\n",
    "    loss_batches = []\n",
    "    for batch_idx, data in enumerate(loader):\n",
    "    \n",
    "        img, mask = data\n",
    "        img = img.cuda()\n",
    "\n",
    "        y = model(img)\n",
    "        loss = loss_function(y, img)\n",
    "\n",
    "        optimizer.zero_grad()\n",
    "        loss.backward()\n",
    "        optimizer.step()\n",
    "\n",
    "        loss_batches.append(loss.data.cpu().numpy())\n",
    "\n",
    "    print('epoch: ' + str(epoch_idx) + ' training loss: ' + str(np.sum(loss_batches)))  \n",
    "\n",
    "torch.save(model.cpu().state_dict(), 'trained/ae-resnet.pth')\n",
    "print('model saved')"
   ]
  },
  {
   "cell_type": "markdown",
   "metadata": {},
   "source": [
    "------- TRAIN AUTOENCODER + SEG ----------"
   ]
  },
  {
   "cell_type": "code",
   "execution_count": null,
   "metadata": {},
   "outputs": [],
   "source": [
    "from model_basic_resnet import VanillaVAE\n",
    "from model_seg import UNetResNet\n",
    "module = VanillaVAE(9, [8,4,2,1]).cuda()\n",
    "module.load_state_dict(torch.load('trained/ae/1.pth'))\n",
    "module = module.train()\n",
    "\n",
    "segmodule = UNetResNet(7,9).cuda()\n",
    "segmodule.load_state_dict(torch.load('trained/seg-resnet.pth'))\n",
    "segmodule.requires_grad_(False)\n",
    "\n",
    "lossFun1 = torch.nn.MSELoss()\n",
    "lossFun2 = torch.nn.CrossEntropyLoss()\n",
    "optimizer = torch.optim.Adam(module.parameters(), lr=0.005)\n",
    "scheduler = torch.optim.lr_scheduler.StepLR(optimizer, 33, 0.5)\n",
    "\n",
    "for epoch_idx in range(100):\n",
    "\n",
    "    loss_batches = []\n",
    "    for batch_idx, data in enumerate(loader):\n",
    "    \n",
    "        img, mask = data\n",
    "        img = img.cuda()\n",
    "        mask = mask.long().cuda()\n",
    "\n",
    "        y = module(img)\n",
    "        loss1 = lossFun1(y, img)\n",
    "        segOutput = segmodule(y)\n",
    "        loss2 = lossFun2(segOutput, mask)\n",
    "        optimizer.zero_grad()\n",
    "        loss = loss1 + 0.01*loss2\n",
    "        loss.backward()\n",
    "        optimizer.step()\n",
    "\n",
    "        loss_batches.append(loss.data.cpu().numpy())\n",
    "    scheduler.step()\n",
    "\n",
    "    print('epoch: ' + str(epoch_idx) + ' training loss: ' + str(np.sum(loss_batches)))\n",
    "\n",
    "torch.save(module.cpu().state_dict(), 'trained/ae-seg/1.pth')\n",
    "print('model saved')"
   ]
  },
  {
   "cell_type": "markdown",
   "metadata": {},
   "source": [
    "------ TRAIN SEGMENTATION --------"
   ]
  },
  {
   "cell_type": "code",
   "execution_count": null,
   "metadata": {},
   "outputs": [],
   "source": [
    "from model_seg import UNetResNet\n",
    "model = UNetResNet(n_class,n_ch).cuda().train()\n",
    "loss = torch.nn.CrossEntropyLoss()\n",
    "optimizer = torch.optim.Adam(model.parameters(), lr=0.001)\n",
    "\n",
    "for epoch_idx in range(100):\n",
    "\n",
    "    loss_batches = []\n",
    "    for batch_idx, data in enumerate(loader):\n",
    "    \n",
    "        imgs, masks = data\n",
    "        imgs = imgs.cuda()\n",
    "        masks = masks.long().cuda()\n",
    "\n",
    "        y = model(imgs)\n",
    "        loss = loss_function(y, masks)\n",
    "\n",
    "        optimizer.zero_grad()\n",
    "        loss.backward()\n",
    "        optimizer.step()\n",
    "\n",
    "        loss_batches.append(loss.data.cpu().numpy())\n",
    "\n",
    "    print('epoch: ' + str(epoch_idx) + ' training loss: ' + str(np.sum(loss_batches)))\n",
    "\n",
    "torch.save(model.cpu().state_dict(), 'trained/seg-resnet.pth')\n",
    "print('model saved')"
   ]
  }
 ],
 "metadata": {
  "interpreter": {
   "hash": "a83cd55f7d42146a270122768dd5483b325a6c1679b2810a76cfea13b48ad59f"
  },
  "kernelspec": {
   "display_name": "Python 3.8.6 ('venv')",
   "language": "python",
   "name": "python3"
  },
  "language_info": {
   "codemirror_mode": {
    "name": "ipython",
    "version": 3
   },
   "file_extension": ".py",
   "mimetype": "text/x-python",
   "name": "python",
   "nbconvert_exporter": "python",
   "pygments_lexer": "ipython3",
   "version": "3.8.6"
  },
  "orig_nbformat": 4
 },
 "nbformat": 4,
 "nbformat_minor": 2
}
