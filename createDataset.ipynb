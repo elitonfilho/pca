{
 "cells": [
  {
   "cell_type": "code",
   "execution_count": 1,
   "metadata": {},
   "outputs": [],
   "source": [
    "import torch, torchvision, pathlib\n",
    "import numpy as np\n",
    "import pyvips\n",
    "from PIL import Image\n",
    "from sklearn.preprocessing import MinMaxScaler\n",
    "from sklearn.decomposition import PCA"
   ]
  },
  {
   "cell_type": "code",
   "execution_count": 22,
   "metadata": {},
   "outputs": [],
   "source": [
    "trainImgPaths = pathlib.Path('/home/users/jeafilho/dataset/cvpr_chesapeake_landcover/').glob('*-train_tiles/*')\n",
    "valImgPaths = pathlib.Path('/home/users/jeafilho/dataset/cvpr_chesapeake_landcover/').glob('*-val_tiles/*')\n",
    "testImgPaths = pathlib.Path('/home/users/jeafilho/dataset/cvpr_chesapeake_landcover/').glob('*-test_tiles/*')"
   ]
  },
  {
   "cell_type": "code",
   "execution_count": 23,
   "metadata": {},
   "outputs": [],
   "source": [
    "maskPaths = []\n",
    "imgPaths = []\n",
    "for p in sorted(trainImgPaths):\n",
    "    if 'leaf-on' in p.stem:\n",
    "        imgPaths.append(p)\n",
    "    elif '_lc' in p.stem:\n",
    "        maskPaths.append(p)"
   ]
  },
  {
   "cell_type": "code",
   "execution_count": 24,
   "metadata": {},
   "outputs": [
    {
     "name": "stdout",
     "output_type": "stream",
     "text": [
      "582 582\n",
      "/home/users/jeafilho/dataset/cvpr_chesapeake_landcover/de_1m_2013_extended-debuffered-train_tiles/m_3807503_ne_18_1_landsat-leaf-on.tif /home/users/jeafilho/dataset/cvpr_chesapeake_landcover/de_1m_2013_extended-debuffered-train_tiles/m_3807503_ne_18_1_lc.tif\n",
      "(6376, 4865, 9) (6376, 4865)\n"
     ]
    }
   ],
   "source": [
    "print(len(imgPaths), len(maskPaths))\n",
    "for imgPath, maskPath in zip(imgPaths, maskPaths):\n",
    "    img = pyvips.Image.new_from_file(str(imgPath))\n",
    "    img = img.numpy()\n",
    "    mask = pyvips.Image.new_from_file(str(maskPath))\n",
    "    mask = mask.numpy()\n",
    "    print(img.shape, mask.shape)\n",
    "    break"
   ]
  },
  {
   "cell_type": "code",
   "execution_count": 82,
   "metadata": {},
   "outputs": [],
   "source": [
    "imgPath = pathlib.Path('/home/users/jeafilho/dataset/cvpr_chesapeake_landcover/de_1m_2013_extended-debuffered-train_tiles/m_3807505_sw_18_1_landsat-leaf-on.tif')\n",
    "maskPath = pathlib.Path('/home/users/jeafilho/dataset/cvpr_chesapeake_landcover/de_1m_2013_extended-debuffered-train_tiles/m_3807505_sw_18_1_lc.tif')\n",
    "imgObj = pyvips.Image.new_from_file(str(imgPath))\n",
    "maskObj = pyvips.Image.new_from_file(str(maskPath))\n",
    "img = imgObj.numpy()\n",
    "mask = maskObj.numpy()"
   ]
  },
  {
   "cell_type": "code",
   "execution_count": 83,
   "metadata": {},
   "outputs": [
    {
     "name": "stdout",
     "output_type": "stream",
     "text": [
      "(6364, 4856, 9) -11.5 6964.0\n",
      "(6364, 4856) 1 6\n"
     ]
    }
   ],
   "source": [
    "print(img.shape, img.min(), img.max())\n",
    "print(mask.shape, mask.min(), mask.max())"
   ]
  },
  {
   "cell_type": "code",
   "execution_count": 84,
   "metadata": {},
   "outputs": [],
   "source": [
    "for i in range(img.shape[2]):\n",
    "    scaler = MinMaxScaler()\n",
    "    img[:,:,i] = scaler.fit_transform(np.squeeze(img[:,:,i]))\n"
   ]
  },
  {
   "cell_type": "code",
   "execution_count": 85,
   "metadata": {},
   "outputs": [
    {
     "data": {
      "text/plain": [
       "(432, 256, 256, 10)"
      ]
     },
     "execution_count": 85,
     "metadata": {},
     "output_type": "execute_result"
    }
   ],
   "source": [
    "xlen = 256\n",
    "ylen = 256\n",
    "dest = []\n",
    "img = img.astype(np.float32)\n",
    "mask = mask.astype(np.float32)\n",
    "for i in range(img.shape[0]//xlen):\n",
    "    for j in range(img.shape[1]//ylen):\n",
    "        _a = np.concatenate([img[xlen*i:xlen*(i+1),ylen*j:ylen*(j+1)],np.expand_dims(mask[xlen*i:xlen*(i+1),ylen*j:ylen*(j+1)], 2)],2)\n",
    "        dest.append(_a)\n",
    "final = np.stack(dest)\n",
    "final.shape"
   ]
  },
  {
   "cell_type": "code",
   "execution_count": 86,
   "metadata": {},
   "outputs": [],
   "source": [
    "np.save('/home/users/jeafilho/dataset/original5', final)"
   ]
  }
 ],
 "metadata": {
  "kernelspec": {
   "display_name": "Python 3.10.4 ('venv')",
   "language": "python",
   "name": "python3"
  },
  "language_info": {
   "codemirror_mode": {
    "name": "ipython",
    "version": 3
   },
   "file_extension": ".py",
   "mimetype": "text/x-python",
   "name": "python",
   "nbconvert_exporter": "python",
   "pygments_lexer": "ipython3",
   "version": "3.10.6"
  },
  "orig_nbformat": 4,
  "vscode": {
   "interpreter": {
    "hash": "aba7c633e1ec2ac30a4c75a4b9556b5b641815947481fc76eabe4a3c477bf2cd"
   }
  }
 },
 "nbformat": 4,
 "nbformat_minor": 2
}
