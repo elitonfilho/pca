{
 "cells": [
  {
   "cell_type": "code",
   "execution_count": null,
   "metadata": {},
   "outputs": [],
   "source": [
    "import numpy as np\n",
    "from pathlib import Path\n",
    "from PIL import Image\n",
    "import matplotlib.pyplot as plt"
   ]
  },
  {
   "cell_type": "markdown",
   "metadata": {},
   "source": [
    "Helper code to apply palletes to images"
   ]
  },
  {
   "cell_type": "code",
   "execution_count": null,
   "metadata": {},
   "outputs": [],
   "source": [
    "n = 1\n",
    "pathMasks = Path(f'D:\\\\pca\\\\mask')\n",
    "pathPCA = Path(f'D:\\\\pca\\\\8-pca')\n",
    "pathAutoencoder = Path(f'D:\\\\pca\\\\ae\\\\4')\n",
    "pathOriginal = Path(f'D:\\\\pca\\\\e-seg\\\\4')\n",
    "np.random.seed(2)\n",
    "\n",
    "for i, p in enumerate(pathMasks.iterdir()):\n",
    "    mask = np.array(Image.open(p))\n",
    "    maskae = np.array(Image.open(pathAutoencoder / p.name))\n",
    "    maskpca = np.array(Image.open(pathPCA / p.name))\n",
    "    maskOriginal = np.array(Image.open(pathOriginal / p.name))\n",
    "\n",
    "    if i == 13:\n",
    "        a = list(np.random.randint(0,255,256))\n",
    "        # mask = Image.fromarray(mask)\n",
    "        # mask.putpalette(a)\n",
    "        # mask.save('D:\\\\pca\\\\article\\\\mask.png')\n",
    "        # maskae = Image.fromarray(maskae)\n",
    "        # maskae.putpalette(a)\n",
    "        # maskae.save('D:\\\\pca\\\\article\\\\ae-4.png')\n",
    "        maskpca = Image.fromarray(maskpca)\n",
    "        maskpca.putpalette(a)\n",
    "        maskpca.save('D:\\\\pca\\\\article\\\\pca-8.png')\n",
    "        # maskOriginal = Image.fromarray(maskOriginal)\n",
    "        # maskOriginal.putpalette(a)\n",
    "        # maskOriginal.save('D:\\\\pca\\\\article\\\\aes-4.png')\n",
    "        # ax[0].imshow(maskae)\n",
    "        # ax[0].set_title(f'AE-{n}')\n",
    "        # ax[0].set_axis_off()\n",
    "        # ax[1].imshow(maskpca)\n",
    "        # ax[1].set_title(f'PCA-{n}')\n",
    "        # ax[1].set_axis_off()\n",
    "        # ax[2].imshow(maskOriginal)\n",
    "        # ax[2].set_title('Orig. output')\n",
    "        # ax[2].set_axis_off()\n",
    "        # ax[3].imshow(mask)\n",
    "        # ax[3].set_title('Mask')\n",
    "        # ax[3].set_axis_off()\n",
    "        # plt.show()\n",
    "        # continue\n"
   ]
  }
 ],
 "metadata": {
  "interpreter": {
   "hash": "a83cd55f7d42146a270122768dd5483b325a6c1679b2810a76cfea13b48ad59f"
  },
  "kernelspec": {
   "display_name": "Python 3.8.6 ('venv')",
   "language": "python",
   "name": "python3"
  },
  "language_info": {
   "codemirror_mode": {
    "name": "ipython",
    "version": 3
   },
   "file_extension": ".py",
   "mimetype": "text/x-python",
   "name": "python",
   "nbconvert_exporter": "python",
   "pygments_lexer": "ipython3",
   "version": "3.8.6"
  },
  "orig_nbformat": 4
 },
 "nbformat": 4,
 "nbformat_minor": 2
}
